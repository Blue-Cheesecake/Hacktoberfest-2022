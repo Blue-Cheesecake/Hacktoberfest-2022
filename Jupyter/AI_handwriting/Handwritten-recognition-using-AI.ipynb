{
 "cells": [
  {
   "cell_type": "code",
   "execution_count": 1,
   "id": "f0dc978c",
   "metadata": {},
   "outputs": [],
   "source": [
    "dict={'1st semester':{'subjects with grades':['Circuit Analysis: A','Circuit Analysis Lab: A','Communication Skills: B','Arabic: B''Engineering Physics: A',\n",
    "     'Engineering Physics Lab: A','Applied Calculus: B','FOP: B','FOP Lab: A'] ,'CGPA':3.58},\n",
    "      '2nd semester':{'subjects with grades':['Circuit Analysis-II: B+','Circuit Analysis-II Lab: A','Differential Equations and Applications: A',\n",
    "      'Complex Variables and Transforms: A','OOP: A','OOP Lab: A','Workshop Practice Lab: B+',\n",
    "      'BME: B','Arabic-II: A'],'CGPA':3.65},\n",
    "      '3rd semester':{'subjects with grades':['ECD-I: B+','ECD-I Lab: A','Linear Algebra: B+','Electrical Machine-I: A','Electrical Machine-I Lab:A',\n",
    "      'Islamic Studies: B+','DLD: A','DLD Lab: A','Engineering Drawing Lab: A'],'CGPA':3.69},\n",
    "      '4th semester':{'subjects with grades':['ECD-II: A','ECD-II Lab: A','MP&MC: A','MP&MC Lab: B+','EMT: B','Signal and Systems: A','Signal and Systems Lab: A',\n",
    "      'Probability and Random Variables: B+'],'CGPA':3.70},\n",
    "      '5th semester':{'subjects with grades':[\n",
    "      'Instrumentation and Measurements Lab: A','DSP: C+','DSP Lab: A','Electrical Machine-II: B+','Electrical Machine-II Lab: A','Instrumentation and Measurements: A','Communication Systems: B+','Communication Systems Lab: B+','Project Management: A'],'CGPA':3.67},\n",
    "      '6th semester':{'subjects with grades':['Control Systems: A','Control Systems Lab: B','Artificial Intelligence: A','DIP: A','DSD: A','DSD Lab: A','PDU: B',\n",
    "      'PDU Lab: B+'],'CGPA':3.69}}\n"
   ]
  },
  {
   "cell_type": "code",
   "execution_count": 3,
   "id": "9d3ab862",
   "metadata": {},
   "outputs": [
    {
     "name": "stdout",
     "output_type": "stream",
     "text": [
      "Which Semester Result you want:'Format e.g:1st semester' 2nd semester\n",
      "Mohid Aamir 663 \n",
      "The Subjects of 2nd semester are: \n",
      " \n",
      "Circuit Analysis-II: B+\n",
      "Circuit Analysis-II Lab: A\n",
      "Differential Equations and Applications: A\n",
      "Complex Variables and Transforms: A\n",
      "OOP: A\n",
      "OOP Lab: A\n",
      "Workshop Practice Lab: B+\n",
      "BME: B\n",
      "Arabic-II: A\n",
      "Your CGPA of 2nd semester  =  3.65\n"
     ]
    }
   ],
   "source": [
    "ringo=str(input(\"Which Semester Result you want:'Format e.g:1st semester' \"))\n",
    "print(\"Mohid Aamir 663 \")\n",
    "print(f\"The Subjects of {ringo} are: \")\n",
    "print(\" \")\n",
    "for key in dict[ringo]['subjects with grades']:\n",
    "    print(key)\n",
    "print(f\"Your CGPA of {ringo}  = \",dict[ringo]['CGPA'])"
   ]
  }
 ],
 "metadata": {
  "kernelspec": {
   "display_name": "Python 3 (ipykernel)",
   "language": "python",
   "name": "python3"
  },
  "language_info": {
   "codemirror_mode": {
    "name": "ipython",
    "version": 3
   },
   "file_extension": ".py",
   "mimetype": "text/x-python",
   "name": "python",
   "nbconvert_exporter": "python",
   "pygments_lexer": "ipython3",
   "version": "3.9.12"
  }
 },
 "nbformat": 4,
 "nbformat_minor": 5
}
